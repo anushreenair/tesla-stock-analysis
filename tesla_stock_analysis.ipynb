{
  "nbformat": 4,
  "nbformat_minor": 0,
  "metadata": {
    "colab": {
      "provenance": []
    },
    "kernelspec": {
      "name": "python3",
      "display_name": "Python 3"
    },
    "language_info": {
      "name": "python"
    }
  },
  "cells": [
    {
      "cell_type": "code",
      "source": [
        "import yfinance as yf #imports library from yfinance\n",
        "import matplotlib.pyplot as plt  #used to create plots and graphs (like line charts of stock prices\n",
        "from matplotlib import style #This imports the style module from matplotlib, which allows you to change how your plots look (like themes).\n",
        "import datetime as dt #It's used to create and handle dates — for example, setting the time period for which you want to fetch stock data.\n",
        "\n",
        "style.use('ggplot') #Applies the 'ggplot' style to your plots. It gives the chart a nice, clean design with gridlines.\n",
        "\n",
        "\n",
        "start = dt.datetime(2000, 1, 1)\n",
        "end = dt.datetime(2024, 12, 31)\n",
        "\n",
        "df = yf.download('TSLA', start=start, end=end) #The DataFrame contains columns like Open, High, Low, Close, Volume, and Adjusted Close for each day.\n",
        "print(df.head(7)) #Prints the first 7 rows of the stock data so you can preview what was downloaded.head(7) is useful for quickly inspecting your dataset.\n"
      ],
      "metadata": {
        "colab": {
          "base_uri": "https://localhost:8080/"
        },
        "id": "rmiNqL4OZ2Ly",
        "outputId": "4e3c2664-ee2e-4b18-d074-c20d0f32ea32"
      },
      "execution_count": 2,
      "outputs": [
        {
          "output_type": "stream",
          "name": "stdout",
          "text": [
            "YF.download() has changed argument auto_adjust default to True\n"
          ]
        },
        {
          "output_type": "stream",
          "name": "stderr",
          "text": [
            "\r[*********************100%***********************]  1 of 1 completed"
          ]
        },
        {
          "output_type": "stream",
          "name": "stdout",
          "text": [
            "Price          Close      High       Low      Open     Volume\n",
            "Ticker          TSLA      TSLA      TSLA      TSLA       TSLA\n",
            "Date                                                         \n",
            "2010-06-29  1.592667  1.666667  1.169333  1.266667  281494500\n",
            "2010-06-30  1.588667  2.028000  1.553333  1.719333  257806500\n",
            "2010-07-01  1.464000  1.728000  1.351333  1.666667  123282000\n",
            "2010-07-02  1.280000  1.540000  1.247333  1.533333   77097000\n",
            "2010-07-06  1.074000  1.333333  1.055333  1.333333  103003500\n",
            "2010-07-07  1.053333  1.108667  0.998667  1.093333  103825500\n",
            "2010-07-08  1.164000  1.168000  1.038000  1.076000  115671000\n"
          ]
        },
        {
          "output_type": "stream",
          "name": "stderr",
          "text": [
            "\n"
          ]
        }
      ]
    }
  ]
}